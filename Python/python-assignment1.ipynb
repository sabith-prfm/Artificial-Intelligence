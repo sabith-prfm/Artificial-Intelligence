{
 "cells": [
  {
   "cell_type": "code",
   "execution_count": 1,
   "metadata": {},
   "outputs": [
    {
     "name": "stdout",
     "output_type": "stream",
     "text": [
      "Enter the string asdfghjkl\n",
      "fgh\n"
     ]
    }
   ],
   "source": [
    "#1. program to print middle 3 characters of 9 character lengthy string\n",
    "str=input(\"Enter the string \")\n",
    "length = int(len(str)/2)\n",
    "str2=str[length-1:length+2]\n",
    "print(str2)\n",
    "\n"
   ]
  },
  {
   "cell_type": "code",
   "execution_count": 2,
   "metadata": {},
   "outputs": [
    {
     "name": "stdout",
     "output_type": "stream",
     "text": [
      "Enter the Number to calculate sum and average 10\n",
      "Sum is 55 and average is 5.5\n"
     ]
    }
   ],
   "source": [
    "#2. sum and average of first n natural Number using for loop\n",
    "n=int(input(\"Enter the Number to calculate sum and average \"))\n",
    "sum=0\n",
    "for i in range(n): #for loop begins\n",
    "    sum+=(i+1)     \n",
    "    avg=sum/n\n",
    "print(\"Sum is {} and average is {}\".format(sum,avg)) #prints in specified format using format()"
   ]
  },
  {
   "cell_type": "code",
   "execution_count": 3,
   "metadata": {},
   "outputs": [
    {
     "name": "stdout",
     "output_type": "stream",
     "text": [
      "Enter the Number to calculate sum and average 15\n",
      "Sum is 120 and average is 8.0\n"
     ]
    }
   ],
   "source": [
    "#2. sum and average of first n natural Number using while loop\n",
    "n=int(input(\"Enter the Number to calculate sum and average \"))\n",
    "sum=0\n",
    "i=0\n",
    "while i < n:\n",
    "    sum+=(i+1)\n",
    "    avg=sum/n\n",
    "    i+=1\n",
    "print(\"Sum is {} and average is {}\".format(sum,avg))\n"
   ]
  },
  {
   "cell_type": "code",
   "execution_count": 4,
   "metadata": {},
   "outputs": [
    {
     "name": "stdout",
     "output_type": "stream",
     "text": [
      "Enter the 1 Number1.5\n",
      "Enter the 2 Number2.5\n",
      "Enter the 3 Number3.5\n",
      "Enter the 4 Number6.4\n",
      "Enter the 5 Number9.2\n",
      "[1.5, 2.5, 3.5, 6.4, 9.2]\n"
     ]
    }
   ],
   "source": [
    "#3. program to add float into list\n",
    "list = [] #empty list decleration\n",
    "for i in range(5):  #for loop begins\n",
    "    x=float(input(\"Enter the {} Number\".format(i+1)))\n",
    "    list.append(x)\n",
    "print(list)"
   ]
  },
  {
   "cell_type": "code",
   "execution_count": 19,
   "metadata": {},
   "outputs": [
    {
     "name": "stdout",
     "output_type": "stream",
     "text": [
      "\n",
      "\n",
      "1 \n",
      "\n",
      "1 2 \n",
      "\n",
      "1 2 3 \n",
      "\n",
      "1 2 3 4 \n",
      "\n",
      "1 2 3 4 5 \n",
      "\n"
     ]
    }
   ],
   "source": [
    "#program to print pattern\n",
    "\"\"\"\n",
    "1\n",
    "1 2\n",
    "1 2 3\n",
    "1 2 3 4\n",
    "1 2 3 4 5 \"\"\"\n",
    "\n",
    "for i in range(6): #for each row\n",
    "    for j in range(i): #for each column\n",
    "        print(j+1, end=\" \")\n",
    "    print(\"\\n\")\n"
   ]
  },
  {
   "cell_type": "code",
   "execution_count": 31,
   "metadata": {},
   "outputs": [
    {
     "name": "stdout",
     "output_type": "stream",
     "text": [
      "5 4 3 2 1 \n",
      "\n",
      "4 3 2 1 \n",
      "\n",
      "3 2 1 \n",
      "\n",
      "2 1 \n",
      "\n",
      "1 \n",
      "\n"
     ]
    }
   ],
   "source": [
    "#program to print pattern\n",
    "\"\"\"\n",
    "5 4 3 2 1\n",
    "4 3 2 1\n",
    "3 2 1\n",
    "2 1\n",
    "1\n",
    "\"\"\"\n",
    "for i in range(5,0,-1):\n",
    "    for j in range(i,0,-1):\n",
    "        print(j, end=\" \")\n",
    "    print(\"\\n\")"
   ]
  },
  {
   "cell_type": "code",
   "execution_count": 38,
   "metadata": {},
   "outputs": [
    {
     "name": "stdout",
     "output_type": "stream",
     "text": [
      "Enter the digit154\n",
      "1\n",
      "5\n",
      "4\n",
      "length of digit is 3\n"
     ]
    }
   ],
   "source": [
    "#5:program to count number of digits\n",
    "length=0\n",
    "n=input(\"Enter the digit \")\n",
    "i=0\n",
    "while i<len(n):\n",
    "    print(n[i])\n",
    "    length+=1\n",
    "    i+=1\n",
    "print(\"length of digit is\",length)"
   ]
  },
  {
   "cell_type": "code",
   "execution_count": 43,
   "metadata": {},
   "outputs": [
    {
     "name": "stdout",
     "output_type": "stream",
     "text": [
      "[6, 12, 12, 20, 18, 28]\n"
     ]
    }
   ],
   "source": [
    "#6. program on list\n",
    "listOne = [3,6,9,12,15,18,21]\n",
    "listTwo = [4,8,12,16,20,24,28]\n",
    "list3 = []\n",
    "for i in range(1,len(listOne)):\n",
    "    if(i % 2 == 0): #checks the index odd or even\n",
    "        list3.append(listTwo[i]) #body for even indexes\n",
    "    else:\n",
    "        list3.append(listOne[i]) #body for odd indexes\n",
    "print(list3)"
   ]
  },
  {
   "cell_type": "code",
   "execution_count": 46,
   "metadata": {},
   "outputs": [
    {
     "name": "stdout",
     "output_type": "stream",
     "text": [
      "smallest element in the list is [3]\n"
     ]
    }
   ],
   "source": [
    "#7. Smallest element in a list\n",
    "listOne = [6,9,12,15,18,21,3]\n",
    "listOne.sort() #sorting in descending order\n",
    "print( \"smallest element in the list is\",listOne[:1])"
   ]
  },
  {
   "cell_type": "code",
   "execution_count": 51,
   "metadata": {},
   "outputs": [
    {
     "name": "stdout",
     "output_type": "stream",
     "text": [
      "Reversed list is [50, 4, 30, 20, 10]\n"
     ]
    }
   ],
   "source": [
    "#8. reverse of list\n",
    "list = [10, 20, 30, 4, 50]\n",
    "listNew = [] #new list to store reverse\n",
    "for i in range(len(list),0,-1):\n",
    "    x = list[i-1]\n",
    "    listNew.append(x)\n",
    "print(\"Reversed list is\",listNew)"
   ]
  },
  {
   "cell_type": "code",
   "execution_count": null,
   "metadata": {},
   "outputs": [],
   "source": []
  }
 ],
 "metadata": {
  "kernelspec": {
   "display_name": "Python 3",
   "language": "python",
   "name": "python3"
  },
  "language_info": {
   "codemirror_mode": {
    "name": "ipython",
    "version": 3
   },
   "file_extension": ".py",
   "mimetype": "text/x-python",
   "name": "python",
   "nbconvert_exporter": "python",
   "pygments_lexer": "ipython3",
   "version": "3.7.6"
  }
 },
 "nbformat": 4,
 "nbformat_minor": 4
}
